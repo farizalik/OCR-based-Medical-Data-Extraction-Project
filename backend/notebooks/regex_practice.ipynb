{
 "cells": [
  {
   "cell_type": "raw",
   "id": "d809fea5-bd5a-49b7-8868-4b4fde23a4bd",
   "metadata": {},
   "source": []
  },
  {
   "cell_type": "code",
   "execution_count": 54,
   "id": "c34352e4-6294-4c77-9173-ce0e93a04d1c",
   "metadata": {},
   "outputs": [
    {
     "data": {
      "text/plain": [
       "<re.Match object; span=(24, 34), match='6235433313'>"
      ]
     },
     "execution_count": 54,
     "metadata": {},
     "output_type": "execute_result"
    }
   ],
   "source": [
    "import re\n",
    "text = \"patient phone number is 6235433313. Bill amount is 123$\"\n",
    "pattern = '(\\d{10})|\\D+(\\d+)\\$'\n",
    "match = re.search(pattern, text)\n",
    "match"
   ]
  },
  {
   "cell_type": "code",
   "execution_count": 36,
   "id": "886f57a2-927d-4280-a128-1a2ca70c9319",
   "metadata": {},
   "outputs": [],
   "source": [
    "phone_number,bill_amount= match.groups()"
   ]
  },
  {
   "cell_type": "code",
   "execution_count": 37,
   "id": "0abbb7e6-dd4e-4cd3-bb08-02252fb36b78",
   "metadata": {},
   "outputs": [
    {
     "data": {
      "text/plain": [
       "'6235433313'"
      ]
     },
     "execution_count": 37,
     "metadata": {},
     "output_type": "execute_result"
    }
   ],
   "source": [
    "phone_number"
   ]
  },
  {
   "cell_type": "code",
   "execution_count": 53,
   "id": "e4335f86-ea4c-4d6d-a7ab-ab4b5094ff65",
   "metadata": {},
   "outputs": [],
   "source": [
    "bill_amount"
   ]
  },
  {
   "cell_type": "code",
   "execution_count": 74,
   "id": "154047e4-e0b1-4ae9-8822-590d78dcc5ce",
   "metadata": {},
   "outputs": [],
   "source": [
    "text='''\n",
    "Name: Marta Sharapova Date: 5/11/2022\n",
    "\n",
    "Address: 9 tennis court, new Russia, DC\n",
    "\n",
    "\n",
    "Prednisone 20 mg\n",
    "Lialda 2.4 gram\n",
    "\n",
    "Directions:\n",
    "\n",
    "Prednisone, Taper 5 mig every 3 days,\n",
    "Finish in 2.5 weeks a\n",
    "Lialda - take 2 pill everyday for 1 month\n",
    "\n",
    "Refill: 2 times\n",
    "'''"
   ]
  },
  {
   "cell_type": "code",
   "execution_count": 75,
   "id": "f50729eb-c5c3-4ec2-90a4-59d8bcb97472",
   "metadata": {},
   "outputs": [
    {
     "data": {
      "text/plain": [
       "'Marta Sharapova'"
      ]
     },
     "execution_count": 75,
     "metadata": {},
     "output_type": "execute_result"
    }
   ],
   "source": [
    "pattern = \"Name:(.*)Date\"\n",
    "match = re.findall(pattern, text)\n",
    "match[0].strip()"
   ]
  },
  {
   "cell_type": "code",
   "execution_count": 76,
   "id": "931b2e86-52b0-46be-b85b-3aaf190f14fa",
   "metadata": {},
   "outputs": [
    {
     "data": {
      "text/plain": [
       "'9 tennis court, new Russia, DC'"
      ]
     },
     "execution_count": 76,
     "metadata": {},
     "output_type": "execute_result"
    }
   ],
   "source": [
    "pattern = \"Address:(.*)\\n\"\n",
    "match = re.findall(pattern, text)\n",
    "match[0].strip()"
   ]
  },
  {
   "cell_type": "code",
   "execution_count": 77,
   "id": "fde03d2a-f7bd-4d7d-9408-0b8c73b8f06d",
   "metadata": {},
   "outputs": [
    {
     "name": "stdout",
     "output_type": "stream",
     "text": [
      "Prednisone 20 mg\n",
      "Lialda 2.4 gram\n"
     ]
    }
   ],
   "source": [
    "pattern = \"Address[^\\n]*(.*)Directions\"\n",
    "match = re.findall(pattern, text, flags=re.DOTALL)\n",
    "print(match[0].strip())"
   ]
  },
  {
   "cell_type": "code",
   "execution_count": 78,
   "id": "d5bd2259-398a-4157-bd71-be2e05a3377c",
   "metadata": {},
   "outputs": [],
   "source": [
    "text = '''\n",
    "\"Directions:\n",
    "Prednisone, Taper 5 mg every 3 days, \n",
    "Finish in 2.5 weeks a Lialda - take 2 pills everyday for 1 month\n",
    "Refill: 2 times\"\n",
    "'''"
   ]
  },
  {
   "cell_type": "code",
   "execution_count": 79,
   "id": "32251a67-b35c-43e0-bc83-2422c8683ea4",
   "metadata": {},
   "outputs": [
    {
     "name": "stdout",
     "output_type": "stream",
     "text": [
      "Prednisone, Taper 5 mg every 3 days, \n",
      "Finish in 2.5 weeks a Lialda - take 2 pills everyday for 1 month\n"
     ]
    }
   ],
   "source": [
    "pattern = \"Directions[^\\n]*(.*)Refill\"\n",
    "match = re.findall(pattern, text, flags=re.DOTALL)\n",
    "print(match[0].strip())"
   ]
  },
  {
   "cell_type": "code",
   "execution_count": 80,
   "id": "d45766db-c08c-4092-9c9b-858541c98e1f",
   "metadata": {},
   "outputs": [
    {
     "name": "stdout",
     "output_type": "stream",
     "text": [
      "2\n"
     ]
    }
   ],
   "source": [
    "pattern = \"Refill:(.*)times\"\n",
    "match = re.findall(pattern, text, flags=re.DOTALL)\n",
    "print(match[0].strip())"
   ]
  },
  {
   "cell_type": "code",
   "execution_count": null,
   "id": "06ee05e4-d68c-4ae2-a75e-85cffdc37cfe",
   "metadata": {},
   "outputs": [],
   "source": []
  },
  {
   "cell_type": "code",
   "execution_count": null,
   "id": "00ea6f3a-0a52-4ff0-ae41-753864a6557c",
   "metadata": {},
   "outputs": [],
   "source": []
  }
 ],
 "metadata": {
  "kernelspec": {
   "display_name": "Python 3 (ipykernel)",
   "language": "python",
   "name": "python3"
  },
  "language_info": {
   "codemirror_mode": {
    "name": "ipython",
    "version": 3
   },
   "file_extension": ".py",
   "mimetype": "text/x-python",
   "name": "python",
   "nbconvert_exporter": "python",
   "pygments_lexer": "ipython3",
   "version": "3.8.10"
  }
 },
 "nbformat": 4,
 "nbformat_minor": 5
}
